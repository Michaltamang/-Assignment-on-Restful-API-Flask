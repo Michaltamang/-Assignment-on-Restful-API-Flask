{
  "nbformat": 4,
  "nbformat_minor": 0,
  "metadata": {
    "colab": {
      "provenance": []
    },
    "kernelspec": {
      "name": "python3",
      "display_name": "Python 3"
    },
    "language_info": {
      "name": "python"
    }
  },
  "cells": [
    {
      "cell_type": "markdown",
      "source": [],
      "metadata": {
        "id": "H_d6d9z2pS6z"
      }
    },
    {
      "cell_type": "markdown",
      "source": [
        "# Theory Question"
      ],
      "metadata": {
        "id": "mr-ZJIwmpVp3"
      }
    },
    {
      "cell_type": "markdown",
      "source": [
        "# 1. What is a RESTful API?\n",
        "\n",
        "  > A RESTful API (short for Representational State Transfer API) is a way for computer systems to communicate over the internet using standard HTTP methods—kind of like how you and I are chatting using a shared language. It's widely used because it's simple, scalable, and works well with web technologies.\n",
        "\n",
        "# 2.Explain the concept of API specification.\n",
        "\n",
        "  > API Specification is a formal, structured document or description that defines how an application programming interface (API) should behave. It outlines the rules for how clients can interact with the API, detailing available endpoints, data formats, request/response patterns, authentication methods, error messages, and usage limits.\n",
        "\n",
        "# 3. What is Flask, and why is it popular for building APIs.\n",
        "\n",
        "  > Flask is a lightweight and flexible web framework written in Python that allows developers to build web applications and APIs quickly and efficiently. It follows a minimalist design philosophy, giving users the freedom to structure their projects and add components as needed.\n",
        "\n",
        "  > Its popularity for building APIs stems from its simplicity, modularity, and extensive support for extensions, making it ideal for both small-scale and large-scale applications.\n",
        "\n",
        "# 4. What is routing in Flask?\n",
        "\n",
        "  > Routing in Flask is the process of mapping URLs to specific functions in a web application. It allows the application to respond to user requests by executing predefined logic based on the URL path.\n",
        "\n",
        "# 5. How do you create a simple Flask application?\n",
        "\n",
        "  > Creating a simple Flask application involves initializing a Python script, importing the Flask library, and defining routes to handle web requests. The core structure includes setting up an instance of the Flask class and creating view functions mapped to specific URLs using decorators like @app.route().\n",
        "\n",
        "# 6. What are HTTP methods used in RESTful APIs?\n",
        "\n",
        "  > HTTP Methods in RESTful APIs are standardized request types that define the action to be performed on a resource identified by a URL. Each method corresponds to a specific operation, enabling structured and predictable interactions between clients and servers.\n",
        "\n",
        "  > The core methods include:\n",
        "\n",
        "  > GET – Retrieves data from the server without modifying it.\n",
        "\n",
        "  > POST – Submits new data to the server, often creating a new resource.\n",
        "\n",
        "  > PUT – Updates an existing resource with new data.\n",
        "\n",
        "  > PATCH – Partially updates an existing resource.\n",
        "\n",
        "  > DELETE – Removes the specified resource from the server.\n",
        "\n",
        "  > These methods allow RESTful APIs to support CRUD operations (Create, Read, Update, Delete) in a stateless and resource-oriented manner.\n",
        "\n",
        "# 7. What is the purpose of the @app.route() decorator in Flask?\n",
        "\n",
        "  > The @app.route() decorator in Flask is used to associate a specific URL path with a view function that handles requests sent to that path. It defines the routing logic for the application, telling Flask what code to execute when users access certain URLs.\n",
        "\n",
        "# 8. What is the difference between GET and POST HTTP methods?\n",
        "\n",
        "  > GET and POST are two fundamental HTTP methods used in RESTful APIs, each serving a distinct purpose:\n",
        "\n",
        "  > GET is used to retrieve data from a server. It appends parameters in the URL and does not alter the server's state. This method is considered safe and idempotent, meaning multiple identical requests yield the same result.\n",
        "\n",
        "  > POST is used to submit data to a server, typically resulting in the creation or modification of resources. It sends data in the request body and may change the server's state. Unlike GET, POST is not idempotent.\n",
        "\n",
        "# 9. How do you handle errors in Flask APIs?\n",
        "\n",
        "  > Error handling in Flask APIs involves defining custom responses for various error conditions to ensure clear communication between the server and the client. It enhances API reliability and user experience by returning appropriate HTTP status codes and descriptive messages when something goes wrong.\n",
        "\n",
        "  > Flask handles errors using built-in mechanisms like try-except blocks, the abort() function for generating specific errors, and the @app.errorhandler() decorator to define custom error-handling logic for exceptions or status codes.\n",
        "\n",
        "# 10.How do you connect Flask to a SQL database.\n",
        "\n",
        "  > Connecting Flask to a SQL database involves configuring a database engine and integrating it with your Flask application using a library like SQLAlchemy or Flask-SQLAlchemy, which provide powerful and flexible tools for database access.\n",
        "\n",
        "  > The typical setup includes:\n",
        "\n",
        "  > Installing the required libraries (Flask-SQLAlchemy)\n",
        "\n",
        "  > Initializing the SQLAlchemy extension with your Flask app\n",
        "\n",
        "  > Setting the database URI (like for SQLite, PostgreSQL, or MySQL) in the app config\n",
        "\n",
        "  > Defining data models using Python classes (which map to SQL tables)\n",
        "\n",
        "  > Creating and managing the database using SQLAlchemy commands\n",
        "\n",
        "  > This integration allows Flask to perform CRUD operations on a relational database using Python code, streamlining the development of data-driven applications.\n",
        "\n",
        "# 11. What is the role of Flask-SQLAlchemy.\n",
        "\n",
        "  > Flask-SQLAlchemy is an extension for the Flask framework that integrates SQLAlchemy—a powerful Object Relational Mapper (ORM)—into Flask applications. It simplifies the process of working with relational databases by allowing developers to interact with database tables as Python classes and objects.\n",
        "\n",
        "  > Its role is to provide a high-level, Pythonic interface for performing database operations, such as creating tables, querying data, updating records, and managing relationships, all while adhering to Flask's configuration patterns and application structure.\n",
        "\n",
        "# 12. What are Flask blueprints, and how are they useful.\n",
        "\n",
        "  > Definition of Flask Blueprints Flask Blueprints are a feature in the Flask web framework that enable the organization of application functionality into modular, reusable components. They allow developers to define application routes, views, templates, and static files in isolated units that can be registered to the main Flask app.\n",
        "\n",
        "  > Why They're Useful\n",
        "\n",
        "  > Promote clean and maintainable architecture\n",
        "\n",
        "  > Simplify code management for large applications\n",
        "\n",
        "  > Facilitate team collaboration by segmenting features\n",
        "\n",
        "  > Enable reuse of code across projects\n",
        "\n",
        "# 13. What is the purpose of Flask's request object?\n",
        "\n",
        "  > Flask's request object serves as the gateway to all incoming data from the client in a Flask web application. It's how your app knows what the user sent—whether it’s a form submission, URL parameters, headers, or JSON data.\n",
        "\n",
        "  >Key Purposes of the request Object\n",
        "  > Access Form Data: request.form gets data sent via POST forms.\n",
        "\n",
        "  > Retrieve Query Parameters: request.args pulls data from URLs like ?name=Alex.\n",
        "\n",
        "  > Handle JSON Payloads: request.get_json() extracts JSON sent in the request body.\n",
        "\n",
        "  > Check Request Method: request.method tells you if it was a GET, POST, etc.\n",
        "\n",
        "  > Inspect Headers and Cookies: request.headers, request.cookies give you extra control.\n",
        "\n",
        "  > File Uploads: request.files manages files sent through HTML forms.\n",
        "\n",
        "# 14. How do you create a RESTful API endpoint using Flask?\n",
        "\n",
        "  > Creating a RESTful API Endpoint Using Flask To create a RESTful API endpoint in Flask, you set up routes that respond to HTTP methods like GET, POST, PUT, and DELETE. Each route corresponds to a resource or an action on that resource, and the data exchanged is typically in JSON format.\n",
        "\n",
        "# 15. What is the purpose of Flask's jsonify() function?\n",
        "\n",
        "  > jsonify() is a built-in Flask helper function used to create a valid JSON response from Python dictionaries, lists, or other serializable objects. It's especially useful in RESTful APIs where client-server communication relies on exchanging structured data.\n",
        "\n",
        "# 16. Explain Flask's url_for() function.\n",
        "\n",
        "  > url_for() is a built-in Flask function used to dynamically build URLs for routes defined in your application. Instead of hardcoding links, you use url_for() to generate them based on the name of a view function, making your code more robust and maintainable.\n",
        "\n",
        "  > Why It's Useful\n",
        "  > Avoids hardcoding URLs: auto-generates links even if the route changes later\n",
        "\n",
        "  > Handles dynamic segments (like IDs or usernames) with ease\n",
        "\n",
        "  > Plays nicely with templates and redirects\n",
        "\n",
        "  > Makes apps easier to scale and refactor\n",
        "\n",
        "# 17. How does Flask handle static files (CSS, JavaScript, etc.)?\n",
        "\n",
        "  > Static File Handling in Flask Flask handles static files (such as CSS, JavaScript, and images) by serving them from a dedicated directory named static, allowing web applications to include front-end assets efficiently. These files are delivered to the client without any modification or processing by Flask, making them essential for styling and interactivity in web pages.\n",
        "\n",
        "# 18. What is an API specification, and how does it help in building a Flask API?\n",
        "\n",
        "  > API Specification An API specification is a formal document or blueprint that outlines how an API behaves. It defines the available endpoints, request formats, response structures, authentication methods, error codes, and other essential details needed to interact with the API—essentially acting as a contract between client and server.\n",
        "\n",
        "  > How It Helps in Building a Flask API\n",
        "\n",
        "  > Clarity & Consistency: Ensures developers know exactly what each route should do, what data it expects, and what it returns.\n",
        "\n",
        "  > Faster Development: Teams can build the frontend and backend independently based on the shared specification.\n",
        "\n",
        "  > Documentation & Testing: Tools like Swagger or Postman use specs (like OpenAPI) to auto-generate docs and test environments.\n",
        "\n",
        "  > Error Reduction: Prevents mismatched expectations between client and server, reducing bugs.\n",
        "\n",
        "  . Scalability: Makes it easier to maintain and update the API as it grows.\n",
        "\n",
        "# 19. What are HTTP status codes, and why are they important in a Flask API?\n",
        "\n",
        "  > HTTP status codes are standardized numerical responses sent by a server to indicate the outcome of a client's request. Each code communicates specific information about what happened—whether the request was successful, redirected, resulted in an error, or failed due to server issues.\n",
        "\n",
        "  > Importance in a Flask API\n",
        "\n",
        "  > In Flask, using the correct HTTP status code helps both developers and client applications understand how the API is behaving. Here's why they're crucial:\n",
        "\n",
        "  > Clarify Response Outcomes: Codes like 200 OK confirm success, while 404 Not Found tells the client the resource doesn't exist.\n",
        "\n",
        "  > Signal Errors: Status codes like 400 Bad Request or 500 Internal Server Error guide debugging and error handling.\n",
        "\n",
        "  > Control Flow: Codes like 301 Moved Permanently or 401 Unauthorized help manage authentication, redirects, and access permissions.\n",
        "\n",
        "  > Improve Client-Side Logic: APIs often use status codes to trigger specific behaviors in front-end apps (e.g., retry on failure, redirect to login).\n",
        "\n",
        "  > Enhance Testing & Monitoring: They're essential for validating API responses and tracking performance or issues.\n",
        "\n",
        "# 20. How do you handle POST requests in Flask?\n",
        "\n",
        "  > To handle POST requests in Flask, you define a route with the methods=['POST'] argument and then use Flask's request object to access the data sent by the client—typically form data or JSON payloads.\n",
        "\n",
        "# 21. How would you secure a Flask API.\n",
        "\n",
        "  >  Securing a Flask API involves implementing authentication, authorization, data validation, and network-level protections to ensure that only trusted users and systems can access or manipulate API resources. The goal is to prevent unauthorized access, protect sensitive data, and safeguard against common security vulnerabilities.\n",
        "\n",
        "  > Key Security Measures Include\n",
        "\n",
        "  > Authentication & Authorization: Use tokens (e.g., JWT) to verify user identity and manage access control\n",
        "\n",
        "  > Input Validation: Sanitize and validate data to prevent attacks such as SQL injection and XSS\n",
        "\n",
        "  > HTTPS Encryption: Transmit data securely using SSL/TLS protocols\n",
        "\n",
        "  > Rate Limiting: Control traffic to prevent abuse or brute-force attacks\n",
        "\n",
        "  > CORS Management: Configure cross-origin access policies for frontend communication\n",
        "\n",
        "  > Secure Configuration: Protect credentials via environment variables and limit exposure of internal errors\n",
        "\n",
        "# 22. What is the significance of the Flask-RESTful extension.\n",
        "\n",
        "  > Flask-RESTful is a powerful extension that streamlines the development of RESTful APIs within Flask applications. It abstracts common patterns and boilerplate code, allowing developers to build cleaner, more organized API logic using class-based views.\n",
        "\n",
        "# 23. What is the role of Flask's session object?\n",
        "\n",
        "  > Flask's session object provides a way to store data specific to a user across multiple requests. It's used to maintain state in an otherwise stateless HTTP protocol, allowing things like login status, preferences, or temporary data to persist as a user navigates your web app."
      ],
      "metadata": {
        "id": "1_nIg8jOpabT"
      }
    },
    {
      "cell_type": "markdown",
      "source": [
        "# Practical Queation"
      ],
      "metadata": {
        "id": "weGAmkx36XvN"
      }
    },
    {
      "cell_type": "code",
      "execution_count": 1,
      "metadata": {
        "colab": {
          "base_uri": "https://localhost:8080/"
        },
        "id": "hVfEXSeVpLPD",
        "outputId": "aafe2504-9419-423f-edf2-16586793f0c0"
      },
      "outputs": [
        {
          "output_type": "stream",
          "name": "stdout",
          "text": [
            " * Serving Flask app '__main__'\n",
            " * Debug mode: on\n"
          ]
        },
        {
          "output_type": "stream",
          "name": "stderr",
          "text": [
            "INFO:werkzeug:\u001b[31m\u001b[1mWARNING: This is a development server. Do not use it in a production deployment. Use a production WSGI server instead.\u001b[0m\n",
            " * Running on http://127.0.0.1:5000\n",
            "INFO:werkzeug:\u001b[33mPress CTRL+C to quit\u001b[0m\n",
            "INFO:werkzeug: * Restarting with stat\n"
          ]
        }
      ],
      "source": [
        "# 1. How do you create a basic Flask application?\n",
        "\n",
        "from flask import Flask\n",
        "\n",
        "app = Flask(__name__)\n",
        "\n",
        "@app.route('/')\n",
        "def hello():\n",
        "    return 'Hello, Flask!'\n",
        "\n",
        "if __name__ == '__main__':\n",
        "    app.run(debug=True)\n"
      ]
    },
    {
      "cell_type": "code",
      "source": [
        "# 2. How do you serve static files like images or CSS in Flask?\n",
        "\n",
        "from flask import Flask, send_from_directory\n",
        "\n",
        "app = Flask(__name__)\n",
        "\n",
        "@app.route('/static/<path:filename>')\n",
        "def serve_static(filename):\n",
        "    return send_from_directory('static', filename)"
      ],
      "metadata": {
        "id": "W7G86hRx61uD"
      },
      "execution_count": 2,
      "outputs": []
    },
    {
      "cell_type": "code",
      "source": [
        "# 3. How do you define different routes with different HTTP methods in Flask?\n",
        "\n",
        "from flask import Flask, request\n",
        "\n",
        "app = Flask(__name__)\n",
        "\n",
        "# Route for GET requests\n",
        "@app.route('/get-example', methods=['GET'])\n",
        "def get_example():\n",
        "    return 'This is a GET request!'\n",
        "\n",
        "# Route for POST requests\n",
        "@app.route('/post-example', methods=['POST'])\n",
        "def post_example():\n",
        "    data = request.form.get('data')\n",
        "    return f'Received POST data: {data}'\n",
        "\n",
        "# Route for both GET and POST\n",
        "@app.route('/multi-method', methods=['GET', 'POST'])\n",
        "def multi_example():\n",
        "    if request.method == 'GET':\n",
        "        return 'Handling GET method.'\n",
        "    elif request.method == 'POST':\n",
        "        return 'Handling POST method.'\n",
        "\n",
        "if __name__ == '__main__':\n",
        "    app.run(debug=True)\n"
      ],
      "metadata": {
        "colab": {
          "base_uri": "https://localhost:8080/"
        },
        "id": "IUFbUNEH7Uc7",
        "outputId": "3f5a2471-f993-4a00-a1f6-7267b5a7ae1b"
      },
      "execution_count": 3,
      "outputs": [
        {
          "output_type": "stream",
          "name": "stdout",
          "text": [
            " * Serving Flask app '__main__'\n",
            " * Debug mode: on\n"
          ]
        },
        {
          "output_type": "stream",
          "name": "stderr",
          "text": [
            "INFO:werkzeug:\u001b[31m\u001b[1mWARNING: This is a development server. Do not use it in a production deployment. Use a production WSGI server instead.\u001b[0m\n",
            " * Running on http://127.0.0.1:5000\n",
            "INFO:werkzeug:\u001b[33mPress CTRL+C to quit\u001b[0m\n",
            "INFO:werkzeug: * Restarting with stat\n"
          ]
        }
      ]
    },
    {
      "cell_type": "code",
      "source": [
        "# 4. How do you render HTML templates in Flask?\n",
        "\n",
        "from flask import Flask, render_template\n",
        "\n",
        "app = Flask(__name__)\n",
        "\n",
        "@app.route('/')\n",
        "def index():\n",
        "    return render_template('index.html')\n",
        "\n",
        "if __name__ == '__main__':\n",
        "    app.run(debug=True)"
      ],
      "metadata": {
        "colab": {
          "base_uri": "https://localhost:8080/"
        },
        "id": "0RIbpfxr764B",
        "outputId": "450fe136-d052-4fd0-a38e-c53a4dba361a"
      },
      "execution_count": 4,
      "outputs": [
        {
          "output_type": "stream",
          "name": "stdout",
          "text": [
            " * Serving Flask app '__main__'\n",
            " * Debug mode: on\n"
          ]
        },
        {
          "output_type": "stream",
          "name": "stderr",
          "text": [
            "INFO:werkzeug:\u001b[31m\u001b[1mWARNING: This is a development server. Do not use it in a production deployment. Use a production WSGI server instead.\u001b[0m\n",
            " * Running on http://127.0.0.1:5000\n",
            "INFO:werkzeug:\u001b[33mPress CTRL+C to quit\u001b[0m\n",
            "INFO:werkzeug: * Restarting with stat\n"
          ]
        }
      ]
    },
    {
      "cell_type": "code",
      "source": [
        "# 5. How can you generate URLs for routes in Flask using url_for?\n",
        "\n",
        "from flask import Flask, url_for\n",
        "\n",
        "app = Flask(__name__)\n",
        "\n",
        "@app.route('/about')\n",
        "def about():\n",
        "    return 'About Page'\n",
        "\n",
        "@app.route('/')\n",
        "def home():\n",
        "    # Generate URL for 'about' route\n",
        "    return f\"Go to the About Page: {url_for('about')}\"\n"
      ],
      "metadata": {
        "id": "Offq8jLw8UMy"
      },
      "execution_count": 5,
      "outputs": []
    },
    {
      "cell_type": "code",
      "source": [
        "# 6. How do you handle forms in Flask?\n",
        "\n",
        "from flask import Flask, render_template, request\n",
        "\n",
        "app = Flask(__name__)\n",
        "\n",
        "@app.route('/')\n",
        "def index():\n",
        "    return render_template('form.html')"
      ],
      "metadata": {
        "id": "jXHbjHzP8z-3"
      },
      "execution_count": 6,
      "outputs": []
    },
    {
      "cell_type": "code",
      "source": [
        "# 7. How can you validate form data in Flask?\n",
        "\n",
        "from flask import Flask, request, render_template\n",
        "\n",
        "app = Flask(__name__)\n",
        "\n",
        "@app.route('/', methods=['GET', 'POST'])\n",
        "def form():\n",
        "    error = None\n",
        "    if request.method == 'POST':\n",
        "        username = request.form.get('username')\n",
        "        message = request.form.get('message')\n",
        "\n",
        "        # Basic Validation\n",
        "        if not username or not message:\n",
        "            error = \"All fields are required.\"\n",
        "        elif len(username) < 3:\n",
        "            error = \"Username must be at least 3 characters.\"\n",
        "        else:\n",
        "            return f\"Thanks, {username}! Message received.\"\n",
        "\n",
        "    return render_template('form.html', error=error)\n",
        "\n",
        "if __name__ == '__main__':\n",
        "    app.run(debug=True)\n"
      ],
      "metadata": {
        "colab": {
          "base_uri": "https://localhost:8080/"
        },
        "id": "BuBZ8Ane9Xts",
        "outputId": "05c39351-e31a-45ff-e4e9-97f5d964a9f1"
      },
      "execution_count": 8,
      "outputs": [
        {
          "output_type": "stream",
          "name": "stdout",
          "text": [
            " * Serving Flask app '__main__'\n",
            " * Debug mode: on\n"
          ]
        },
        {
          "output_type": "stream",
          "name": "stderr",
          "text": [
            "INFO:werkzeug:\u001b[31m\u001b[1mWARNING: This is a development server. Do not use it in a production deployment. Use a production WSGI server instead.\u001b[0m\n",
            " * Running on http://127.0.0.1:5000\n",
            "INFO:werkzeug:\u001b[33mPress CTRL+C to quit\u001b[0m\n",
            "INFO:werkzeug: * Restarting with stat\n"
          ]
        }
      ]
    },
    {
      "cell_type": "code",
      "source": [
        "# 8. How do you manage sessions in Flask?\n",
        "\n",
        "from flask import Flask, session, redirect, url_for, request\n",
        "\n",
        "app = Flask(__name__)\n",
        "app.secret_key = 'supersecretkey'  # Needed for sessions\n",
        "\n",
        "@app.route('/')\n",
        "def home():\n",
        "    user = session.get('user')\n",
        "    return f\"Welcome, {user}!\" if user else \"You're not logged in.\"\n",
        "\n",
        "@app.route('/login', methods=['POST'])\n",
        "def login():\n",
        "    username = request.form.get('username')\n",
        "    if username:\n",
        "        session['user'] = username\n",
        "    return redirect(url_for('home'))\n",
        "\n",
        "@app.route('/logout')\n",
        "def logout():\n",
        "    session.pop('user', None)\n",
        "    return redirect(url_for('home'))\n",
        "\n",
        "@app.route('/form')\n",
        "def form():\n",
        "    return '''\n",
        "        <form action=\"/login\" method=\"post\">\n",
        "            <input name=\"username\" placeholder=\"Enter your name\">\n",
        "            <input type=\"submit\" value=\"Login\">\n",
        "        </form>\n",
        "    '''\n",
        "\n",
        "if __name__ == '__main__':\n",
        "    app.run(debug=True)\n"
      ],
      "metadata": {
        "colab": {
          "base_uri": "https://localhost:8080/"
        },
        "id": "9eX2W48X9y1_",
        "outputId": "35913d62-b5fc-4b4b-a551-3a18096bb258"
      },
      "execution_count": 9,
      "outputs": [
        {
          "output_type": "stream",
          "name": "stdout",
          "text": [
            " * Serving Flask app '__main__'\n",
            " * Debug mode: on\n"
          ]
        },
        {
          "output_type": "stream",
          "name": "stderr",
          "text": [
            "INFO:werkzeug:\u001b[31m\u001b[1mWARNING: This is a development server. Do not use it in a production deployment. Use a production WSGI server instead.\u001b[0m\n",
            " * Running on http://127.0.0.1:5000\n",
            "INFO:werkzeug:\u001b[33mPress CTRL+C to quit\u001b[0m\n",
            "INFO:werkzeug: * Restarting with stat\n"
          ]
        }
      ]
    },
    {
      "cell_type": "code",
      "source": [
        "# 9. How do you redirect to a different route in Flask?\n",
        "\n",
        "from flask import Flask, redirect, url_for\n",
        "\n",
        "app = Flask(__name__)\n",
        "\n",
        "@app.route('/old-route')\n",
        "def old_route():\n",
        "    # Redirects to the 'new_route' function\n",
        "    return redirect(url_for('new_route'))\n",
        "\n",
        "@app.route('/new-route')\n",
        "def new_route():\n",
        "    return \"This is the new route!\"\n",
        "\n",
        "if __name__ == '__main__':\n",
        "    app.run(debug=True)"
      ],
      "metadata": {
        "colab": {
          "base_uri": "https://localhost:8080/"
        },
        "id": "N8EncnY8-Pe5",
        "outputId": "ee4aca15-98a9-4c4e-d84c-f87b587c48c3"
      },
      "execution_count": 10,
      "outputs": [
        {
          "output_type": "stream",
          "name": "stdout",
          "text": [
            " * Serving Flask app '__main__'\n",
            " * Debug mode: on\n"
          ]
        },
        {
          "output_type": "stream",
          "name": "stderr",
          "text": [
            "INFO:werkzeug:\u001b[31m\u001b[1mWARNING: This is a development server. Do not use it in a production deployment. Use a production WSGI server instead.\u001b[0m\n",
            " * Running on http://127.0.0.1:5000\n",
            "INFO:werkzeug:\u001b[33mPress CTRL+C to quit\u001b[0m\n",
            "INFO:werkzeug: * Restarting with stat\n"
          ]
        }
      ]
    },
    {
      "cell_type": "code",
      "source": [
        "# 10. How do you handle errors in Flask (e.g., 404)?\n",
        "\n",
        "from flask import Flask, render_template\n",
        "\n",
        "app = Flask(__name__)\n",
        "\n",
        "@app.errorhandler(404)\n",
        "def page_not_found(error):\n",
        "    return render_template('404.html'), 404\n",
        "\n",
        "# Example route\n",
        "@app.route('/')\n",
        "def index():\n",
        "    return \"Hello, world!\"\n",
        "\n",
        "# You would need a 'templates' folder with a '404.html' file for this to work fully.\n",
        "# A simple 404.html could look like this:\n",
        "# <h1>Page Not Found</h1>\n",
        "# <p>The page you requested could not be found.</p>\n",
        "\n",
        "if __name__ == '__main__':\n",
        "    app.run(debug=True)"
      ],
      "metadata": {
        "colab": {
          "base_uri": "https://localhost:8080/"
        },
        "id": "QDyVK58O-pHA",
        "outputId": "96f73990-ff46-446f-a09d-8ed5f75aa8e3"
      },
      "execution_count": 11,
      "outputs": [
        {
          "output_type": "stream",
          "name": "stdout",
          "text": [
            " * Serving Flask app '__main__'\n",
            " * Debug mode: on\n"
          ]
        },
        {
          "output_type": "stream",
          "name": "stderr",
          "text": [
            "INFO:werkzeug:\u001b[31m\u001b[1mWARNING: This is a development server. Do not use it in a production deployment. Use a production WSGI server instead.\u001b[0m\n",
            " * Running on http://127.0.0.1:5000\n",
            "INFO:werkzeug:\u001b[33mPress CTRL+C to quit\u001b[0m\n",
            "INFO:werkzeug: * Restarting with stat\n"
          ]
        }
      ]
    },
    {
      "cell_type": "code",
      "source": [
        "# 11. How do you structure a Flask app using Blueprints?\n",
        "\n",
        "from flask import Flask, Blueprint\n",
        "\n",
        "# Create a Blueprint\n",
        "simple_page = Blueprint('simple_page', __name__,\n",
        "                        template_folder='templates')\n",
        "\n",
        "# Define a route within the Blueprint\n",
        "@simple_page.route('/')\n",
        "def index():\n",
        "    return \"This is the index page of the Blueprint.\"\n",
        "\n",
        "# Create the main Flask application\n",
        "app = Flask(__name__)\n",
        "\n",
        "# Register the Blueprint with the main app\n",
        "app.register_blueprint(simple_page)\n",
        "\n",
        "if __name__ == '__main__':\n",
        "    app.run(debug=True)\n"
      ],
      "metadata": {
        "colab": {
          "base_uri": "https://localhost:8080/"
        },
        "id": "L5RI9Tfq_Mv4",
        "outputId": "ab9f074f-f918-41a7-ac64-f1b01ba514c1"
      },
      "execution_count": 12,
      "outputs": [
        {
          "output_type": "stream",
          "name": "stdout",
          "text": [
            " * Serving Flask app '__main__'\n",
            " * Debug mode: on\n"
          ]
        },
        {
          "output_type": "stream",
          "name": "stderr",
          "text": [
            "INFO:werkzeug:\u001b[31m\u001b[1mWARNING: This is a development server. Do not use it in a production deployment. Use a production WSGI server instead.\u001b[0m\n",
            " * Running on http://127.0.0.1:5000\n",
            "INFO:werkzeug:\u001b[33mPress CTRL+C to quit\u001b[0m\n",
            "INFO:werkzeug: * Restarting with stat\n"
          ]
        }
      ]
    },
    {
      "cell_type": "code",
      "source": [
        "# 12. How do you define a custom Jinja filter in Flask?\n",
        "\n",
        "from flask import Flask, render_template_string\n",
        "\n",
        "app = Flask(__name__)\n",
        "\n",
        "# Define a custom filter\n",
        "def reverse_string(s):\n",
        "    return s[::-1]\n",
        "\n",
        "# Register the filter\n",
        "app.jinja_env.filters['reverse'] = reverse_string\n",
        "\n",
        "@app.route('/')\n",
        "def index():\n",
        "    template = '''\n",
        "    <p>Original: Hello World</p>\n",
        "    <p>Reversed: {{ \"Hello World\" | reverse }}</p>\n",
        "    '''\n",
        "    return render_template_string(template)\n",
        "\n",
        "if __name__ == '__main__':\n",
        "    app.run(debug=True)"
      ],
      "metadata": {
        "colab": {
          "base_uri": "https://localhost:8080/"
        },
        "id": "-fufAMlj_3cn",
        "outputId": "caf5a7c1-568d-4f4e-f4e0-80a36ea7b428"
      },
      "execution_count": 14,
      "outputs": [
        {
          "output_type": "stream",
          "name": "stdout",
          "text": [
            " * Serving Flask app '__main__'\n",
            " * Debug mode: on\n"
          ]
        },
        {
          "output_type": "stream",
          "name": "stderr",
          "text": [
            "INFO:werkzeug:\u001b[31m\u001b[1mWARNING: This is a development server. Do not use it in a production deployment. Use a production WSGI server instead.\u001b[0m\n",
            " * Running on http://127.0.0.1:5000\n",
            "INFO:werkzeug:\u001b[33mPress CTRL+C to quit\u001b[0m\n",
            "INFO:werkzeug: * Restarting with stat\n"
          ]
        }
      ]
    },
    {
      "cell_type": "code",
      "metadata": {
        "colab": {
          "base_uri": "https://localhost:8080/"
        },
        "id": "44a9a903",
        "outputId": "2d8a7211-1c6d-4aca-f1f6-7cbf3741a03d"
      },
      "source": [
        "# 13. How can you redirect with query parameters in Flask?\n",
        "\n",
        "from flask import Flask, redirect, url_for\n",
        "\n",
        "app = Flask(__name__)\n",
        "\n",
        "@app.route('/original')\n",
        "def original_route():\n",
        "    # Redirect to 'destination_route' with query parameters\n",
        "    return redirect(url_for('destination_route', param1='value1', param2='value2'))\n",
        "\n",
        "@app.route('/destination')\n",
        "def destination_route():\n",
        "    # You can access query parameters using request.args\n",
        "    from flask import request\n",
        "    param1 = request.args.get('param1')\n",
        "    param2 = request.args.get('param2')\n",
        "    return f\"Reached destination with param1: {param1} and param2: {param2}\"\n",
        "\n",
        "if __name__ == '__main__':\n",
        "    app.run(debug=True)"
      ],
      "execution_count": 18,
      "outputs": [
        {
          "output_type": "stream",
          "name": "stdout",
          "text": [
            " * Serving Flask app '__main__'\n",
            " * Debug mode: on\n"
          ]
        },
        {
          "output_type": "stream",
          "name": "stderr",
          "text": [
            "INFO:werkzeug:\u001b[31m\u001b[1mWARNING: This is a development server. Do not use it in a production deployment. Use a production WSGI server instead.\u001b[0m\n",
            " * Running on http://127.0.0.1:5000\n",
            "INFO:werkzeug:\u001b[33mPress CTRL+C to quit\u001b[0m\n",
            "INFO:werkzeug: * Restarting with stat\n"
          ]
        }
      ]
    },
    {
      "cell_type": "code",
      "metadata": {
        "colab": {
          "base_uri": "https://localhost:8080/"
        },
        "id": "aa26194a",
        "outputId": "3d5d1318-ffb3-422e-9d32-c3f52be7d019"
      },
      "source": [
        "# 14. How do you return JSON responses in Flask?\n",
        "\n",
        "from flask import Flask, jsonify\n",
        "\n",
        "app = Flask(__name__)\n",
        "\n",
        "@app.route('/json')\n",
        "def json_example():\n",
        "    data = {\n",
        "        'name': 'Flask',\n",
        "        'version': '1.0',\n",
        "        'is_web_framework': True\n",
        "    }\n",
        "    return jsonify(data)\n",
        "\n",
        "if __name__ == '__main__':\n",
        "    app.run(debug=True)"
      ],
      "execution_count": 16,
      "outputs": [
        {
          "output_type": "stream",
          "name": "stdout",
          "text": [
            " * Serving Flask app '__main__'\n",
            " * Debug mode: on\n"
          ]
        },
        {
          "output_type": "stream",
          "name": "stderr",
          "text": [
            "INFO:werkzeug:\u001b[31m\u001b[1mWARNING: This is a development server. Do not use it in a production deployment. Use a production WSGI server instead.\u001b[0m\n",
            " * Running on http://127.0.0.1:5000\n",
            "INFO:werkzeug:\u001b[33mPress CTRL+C to quit\u001b[0m\n",
            "INFO:werkzeug: * Restarting with stat\n"
          ]
        }
      ]
    },
    {
      "cell_type": "code",
      "source": [],
      "metadata": {
        "id": "Sod5A81YBB0c"
      },
      "execution_count": null,
      "outputs": []
    },
    {
      "cell_type": "code",
      "metadata": {
        "colab": {
          "base_uri": "https://localhost:8080/"
        },
        "id": "babdbaba",
        "outputId": "080b3d89-600d-449f-d392-4a2ca665088a"
      },
      "source": [
        "# 15. How do you capture URL parameters in Flask?\n",
        "\n",
        "from flask import Flask\n",
        "\n",
        "app = Flask(__name__)\n",
        "\n",
        "@app.route('/user/<username>')\n",
        "def show_user_profile(username):\n",
        "    # show the user profile for that user\n",
        "    return f'User {username}'\n",
        "\n",
        "@app.route('/post/<int:post_id>')\n",
        "def show_post(post_id):\n",
        "    # show the post with the given id, the id is an integer\n",
        "    return f'Post {post_id}'\n",
        "\n",
        "if __name__ == '__main__':\n",
        "    app.run(debug=True)"
      ],
      "execution_count": 17,
      "outputs": [
        {
          "output_type": "stream",
          "name": "stdout",
          "text": [
            " * Serving Flask app '__main__'\n",
            " * Debug mode: on\n"
          ]
        },
        {
          "output_type": "stream",
          "name": "stderr",
          "text": [
            "INFO:werkzeug:\u001b[31m\u001b[1mWARNING: This is a development server. Do not use it in a production deployment. Use a production WSGI server instead.\u001b[0m\n",
            " * Running on http://127.0.0.1:5000\n",
            "INFO:werkzeug:\u001b[33mPress CTRL+C to quit\u001b[0m\n",
            "INFO:werkzeug: * Restarting with stat\n"
          ]
        }
      ]
    },
    {
      "cell_type": "code",
      "source": [],
      "metadata": {
        "id": "ugqfHZ-VBQWb"
      },
      "execution_count": null,
      "outputs": []
    }
  ]
}